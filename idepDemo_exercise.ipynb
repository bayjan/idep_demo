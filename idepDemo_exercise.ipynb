{
  "nbformat": 4,
  "nbformat_minor": 0,
  "metadata": {
    "colab": {
      "name": "idepDemo_clean.ipynb",
      "provenance": [],
      "collapsed_sections": [],
      "toc_visible": true,
      "include_colab_link": true
    },
    "kernelspec": {
      "name": "ir",
      "display_name": "R"
    }
  },
  "cells": [
    {
      "cell_type": "markdown",
      "metadata": {
        "id": "view-in-github",
        "colab_type": "text"
      },
      "source": [
        "<a href=\"https://colab.research.google.com/github/bayjan/idep_demo/blob/master/idepDemo_exercise.ipynb\" target=\"_parent\"><img src=\"https://colab.research.google.com/assets/colab-badge.svg\" alt=\"Open In Colab\"/></a>"
      ]
    },
    {
      "cell_type": "markdown",
      "metadata": {
        "id": "ND_44blD34uN"
      },
      "source": [
        "# Reproducing some parts of the results using code instead of GUI\n",
        "Here we will try to reproduce PCA results obtained using iDEP tool with the demo data.\n",
        "\n",
        "Some code have been directly copied from **R** tab (the last tab) in the tool's web-site at: **http://bioinformatics.sdstate.edu/idep/**\n",
        "There click the \"Customized R code\" button and then \"iDEP core functions\" buttons to download two R files. The latter defines the following functions: `readData()`, `readSampleInfo()`, `convertData()`, `detectGroups()` and `PCAplot()`. We also copied them here. The rest of the code is copied from customized R functions file.\n",
        "\n",
        "Also GitHub repository of iDEP tool is here at:**https://github.com/iDEP-SDSU/idep/tree/master/shinyapps/idep**.\n",
        "\n",
        "## Learning goals \n",
        "* Generate the same figure using **R code** instead of **Graphical User Interface (GUI)** \n",
        "  * So, brief exposure to **programming in R**\n",
        "* Adapting or creating new figures based on our needs\n",
        "* Learning necessary steps for reproducing results of other researchers"
      ]
    },
    {
      "cell_type": "code",
      "metadata": {
        "id": "bryW-OyTowkk"
      },
      "source": [
        "# In our case expression_file is an input file\n",
        "expression_file = \"https://raw.githubusercontent.com/iDEP-SDSU/idep/master/shinyapps/idep/exampleData/BcellGSE71176_p53.csv\"\n",
        "sampleInfoFile=\"https://raw.githubusercontent.com/iDEP-SDSU/idep/master/shinyapps/idep/exampleData/BcellGSE71176_p53_sampleInfo.csv\""
      ],
      "execution_count": 1,
      "outputs": []
    },
    {
      "cell_type": "markdown",
      "metadata": {
        "id": "F6aku4Af_l24"
      },
      "source": [
        "As shown above a variable is on the left side and its value is on the right side. So, we assign a value to a variable as following `var=value`. So `expression_file` now holds the value for the location of the file on the web. In **R** assignment operator is not only `=` sign but also `<-` symbol used quite often. We can equally define `var <- value`. Assigning of a value to a variable is a command, which is one type of a statement.\n",
        "\n",
        "In R and in general in programming a function is a collection of statements that are geared towards to achieve a certain result or to do certain task. One can think of it as a small program or sub-program that will be used more than once within that program or outside of that program. \n",
        "\n",
        "Functions are defined as following:\n",
        "```\n",
        "function_name <- function(function_argument1, function_argument2,...) {\n",
        "\n",
        "  function_body=statement1;\n",
        "  function_body=statement2;\n",
        "...\n",
        "  function_body=statementN;\n",
        "\n",
        "\n",
        "}\n",
        "```\n",
        "So, in short one can think of an R script file as a module composed of function(s) and statements that may also use other functions defined outside of that script, for example, in other packages or scripts. An R package is a collection of R scripts and other required resources like configuration files and other R scripts.\n"
      ]
    },
    {
      "cell_type": "code",
      "metadata": {
        "id": "m2QInvsKVJPo"
      },
      "source": [
        "readData <- function(inFile ) {\n",
        "\n",
        "\t# these packages moved here to reduce loading time\n",
        "\tlibrary(edgeR,verbose=FALSE) # count data D.E.\n",
        "\tlibrary(DESeq2,verbose=FALSE) # count data analysis\n",
        "\n",
        "\tdataTypeWarning =0\n",
        "\tdataType =c(TRUE)\n",
        "\n",
        "\t#---------------Read file\n",
        "\tx <- read.csv(inFile)\t# try CSV\n",
        "\tif(dim(x)[2] <= 2 )   # if less than 3 columns, try tab-deliminated\n",
        "\t\tx <- read.table(inFile, sep=\"\\t\",header=TRUE)\t\n",
        "\t#-------Remove non-numeric columns, except the first column\n",
        "\t\n",
        "\tfor(i in 2:dim(x)[2])\n",
        "\t\tdataType = c( dataType, is.numeric(x[,i]) )\n",
        "\tif(sum(dataType) <=2) return (NULL)  # only less than 2 columns are numbers\n",
        "\tx <- x[,dataType]  # only keep numeric columns\n",
        "\t\n",
        "\t# rows with all missing values\n",
        "\tix = which( apply(x[,-1],1, function(y) sum( is.na(y) ) ) != dim(x)[2]-1 )\n",
        "\tx <- x[ix,]\n",
        "\t\n",
        "\tdataSizeOriginal = dim(x); dataSizeOriginal[2] = dataSizeOriginal[2] -1\n",
        "\t\n",
        "\tx[,1] <- toupper(x[,1])\n",
        "\tx[,1] <- gsub(\" \",\"\",x[,1]) # remove spaces in gene ids\n",
        "\tx = x[order(- apply(x[,2:dim(x)[2]],1,sd) ),]  # sort by SD\n",
        "\tx <- x[!duplicated(x[,1]) ,]  # remove duplicated genes\n",
        "\trownames(x) <- x[,1]\n",
        "\tx <- as.matrix(x[,c(-1)])\n",
        "\t\n",
        "\t# remove \"-\" or \".\" from sample names\n",
        "\tcolnames(x) = gsub(\"-\",\"\",colnames(x))\n",
        "\tcolnames(x) = gsub(\"\\\\.\",\"\",colnames(x))\n",
        "\n",
        "\t\n",
        "\t#cat(\"\\nhere\",dim(x))\n",
        "\t# missng value for median value\n",
        "\tif(sum(is.na(x))>0) {# if there is missing values\n",
        "\t\tif(input_missingValue ==\"geneMedian\") { \n",
        "\t\t\trowMedians <- apply(x,1, function (y)  median(y,na.rm=T))\n",
        "\t\t\tfor( i in 1:dim(x)[2] ) {\n",
        "\t\t\t\tix = which(is.na(x[,i]) )\n",
        "\t\t\t\tx[ix,i] <- rowMedians[ix]\t\t\t\t\t\t\n",
        "\t\t\t}\n",
        "\t\t\t\t\n",
        "\t\t} else if(input_missingValue ==\"treatAsZero\") {\n",
        "\t\t\tx[is.na(x) ] <- 0\t\t\t\t\t\n",
        "\t\t} else if (input_missingValue ==\"geneMedianInGroup\") {\n",
        "\t\t\tsampleGroups = detectGroups( colnames(x))\n",
        "\t\t\tfor (group in unique( sampleGroups) ){\t\t\n",
        "\t\t\t\tsamples = which( sampleGroups == group )\n",
        "\t\t\t\trowMedians <- apply(x[,samples, drop=F],1, function (y)  median(y,na.rm=T))\n",
        "\t\t\t\tfor( i in  samples ) { \n",
        "\t\t\t\t\tix = which(is.na(x[ ,i] ) )\t\n",
        "\t\t\t\t\tif(length(ix) >0 )\n",
        "\t\t\t\t\t\tx[ix, i  ]  <- rowMedians[ix]\n",
        "\t\t\t\t}\t\t\t\t\t\t\t\t\t\t\n",
        "\t\t\t}\n",
        "\t\t\t\n",
        "\t\t\t# missing for entire sample group, use median for all samples\n",
        "\t\t\tif(sum(is.na(x) )>0 ) { \n",
        "\t\t\t\trowMedians <- apply(x,1, function (y)  median(y,na.rm=T))\n",
        "\t\t\t\tfor( i in 1:dim(x)[2] ) {\n",
        "\t\t\t\t\tix = which(is.na(x[,i]) )\n",
        "\t\t\t\t\tx[ix,i] <- rowMedians[ix]\t\t\t\t\t\t\n",
        "\t\t\t\t}\t\t\t\t\t\t\n",
        "\t\t\t}\n",
        "\t\t}\n",
        "\t}\n",
        "\n",
        "\t# Compute kurtosis\n",
        "\tmean.kurtosis = mean(apply(x,2, kurtosis),na.rm=T)\n",
        "\trawCounts = NULL\n",
        "\tpvals= NULL\n",
        "\tif (input_dataFileFormat == 2 ) {  # if FPKM, microarray\n",
        "\n",
        "\t\tif ( is.integer(x) ) dataTypeWarning = 1;  # Data appears to be read counts\n",
        "\n",
        "\t\t#-------------filtering\n",
        "\t\t#tem <- apply(x,1,max)\n",
        "\t\t#x <- x[which(tem > input_lowFilter),]  # max by row is at least \n",
        "\t\tx <- x[ which( apply( x, 1,  function(y) sum(y >= input_lowFilter)) >= input_NminSamples2 ) , ] \n",
        "\n",
        "\t\t\n",
        "\t\tx <- x[which(apply(x,1, function(y) max(y)- min(y) ) > 0  ),]  # remove rows with all the same levels\n",
        "\n",
        "\t\t#--------------Log transform\n",
        "\t\t# Takes log if log is selected OR kurtosis is big than 100\n",
        "\t\tif ( (input_transform == TRUE) | (mean.kurtosis > kurtosis.log ) ) \n",
        "\t\t\tx = log(x+abs( input_logStart),2)\n",
        "\n",
        "\t\ttem <- apply(x,1,sd) \n",
        "\t\tx <- x[order(-tem),]  # sort by SD\n",
        "\n",
        "\t} else \n",
        "\t\tif( input_dataFileFormat == 1) {  # counts data\n",
        "\n",
        "\n",
        "\t\t# data not seems to be read counts\n",
        "\t\tif(!is.integer(x) & mean.kurtosis < kurtosis.log ) {\n",
        "\t\t\tdataTypeWarning = -1\n",
        "\t\t}\n",
        "\t\t# not used as some counts data like those from CRISPR screen\n",
        "\t\t#validate(   # if Kurtosis is less than a threshold, it is not read-count\n",
        "\t\t#\tneed(mean.kurtosis > kurtosis.log, \"Data does not seem to be read count based on distribution. Please double check.\")\n",
        "\t\t# )\n",
        "\t\tx <- round(x,0) # enforce the read counts to be integers. Sailfish outputs has decimal points.\n",
        "\t\t#x <- x[ which( apply(x,1,max) >= input_minCounts ) , ] # remove all zero counts\n",
        "\t\t\n",
        "\n",
        "\t\t# remove genes if it does not at least have minCounts in at least NminSamples\n",
        "\t\t#x <- x[ which( apply(x,1,function(y) sum(y>=input_minCounts)) >= input_NminSamples ) , ]  # filtering on raw counts\n",
        "\t\t# using counts per million (CPM) for filtering out genes.\n",
        "\t\t\t\t\t\t\t\t\t\t\t\t\t\t\t\t\t\t\t\t# CPM matrix                  #N samples > minCounts\n",
        "\t\tx <- x[ which( apply( cpm(DGEList(counts = x)), 1,  \n",
        "\t\t\t\tfunction(y) sum(y>=input_minCounts)) >= input_NminSamples ) , ] \n",
        "\t\t\n",
        "\n",
        "\n",
        "\t\trawCounts = x; # ??? \n",
        "\t\t# construct DESeqExpression Object\n",
        "\t\t# colData = cbind(colnames(x), as.character(detectGroups( colnames(x) )) )\n",
        "\t\ttem = rep(\"A\",dim(x)[2]); tem[1] <- \"B\"   # making a fake design matrix to allow process, even when there is no replicates\n",
        "\t\tcolData = cbind(colnames(x), tem )\n",
        "\t\tcolnames(colData)  = c(\"sample\", \"groups\")\n",
        "\t\tdds <- DESeqDataSetFromMatrix(countData = x, colData = colData, design = ~ groups)\n",
        "\t\tdds <- estimateSizeFactors(dds) # estimate size factor for use in normalization later for started log method\n",
        "\n",
        "\n",
        "\t\t# regularized log  or VST transformation\n",
        "\t\tif( input_CountsTransform == 3 ) { # rlog is slow, only do it with 10 samples\n",
        "\t\t\tif(dim(x)[2]<=20 ) { \n",
        "\t\t\t\tx <- rlog(dds, blind=TRUE); x <- assay(x) } else \n",
        "\t\t\t\tx <- log2( counts(dds, normalized=TRUE) + input_countsLogStart ) \n",
        "\t\t\t\t}  \n",
        "\n",
        "\t\t\telse {\n",
        "\t\t\tif ( input_CountsTransform == 2 ) {    # vst is fast but aggressive\n",
        "\t\t\t\tx <- vst(dds, blind=TRUE)\n",
        "\t\t\t\tx <- assay(x)  \n",
        "\t\t\t} else{  # normalized by library sizes and add a constant.\n",
        "\t\t\t\tx <- log2( counts(dds, normalized=TRUE) + input_countsLogStart )   # log(x+c) \n",
        "\t\t\t\t# This is equivalent to below. But the prior counts is more important\n",
        "\t\t\t\t#x <- cpm(DGEList(counts = x),log=TRUE, prior.count=input_countsLogStart )  #log CPM from edgeR\n",
        "\t\t\t\t#x <- x-min(x)  # shift values to avoid negative numbers\n",
        "\t\t\t}\n",
        "\t\t}\n",
        "\t} else \n",
        "\t\tif( input_dataFileFormat == 3)\t{  # other data type\n",
        "\n",
        "\t\t\t#neg_lfc neg_fdr pos_lfc pos_fdr \n",
        "\t\t\t#11       1      11       1 \n",
        "\t\t\t\n",
        "\t\t\tn2 = ( dim(x)[2] %/% 2) # 5 --> 2\n",
        "\t\t\t# It looks like it contains P values\n",
        "\t\t\t# ranges of columns add 0.2 and round to whole. For P value columns this should be 1\n",
        "\t\t\ttem = round( apply(x, 2, function( y) max(y)- min(y))  + .2)     \n",
        "\t\t\tif( sum(tem[(1:n2)*2  ] ==  1 ) == n2 | \n",
        "\t\t\t\tsum(tem[(1:n2)*2-1  ] ==  1 ) == n2 ) { \t\t\n",
        "\t\t\t\tx = x[,1:(2*n2) ,drop=FALSE ] # if 5, change it to 4\t\t\t\n",
        "\t\t\t\tif(tem[2] == 1) { # FDR follows Fold-change\n",
        "\t\t\t\t\tpvals = x [,2*(1:n2 ),drop=FALSE ]  # 2, 4, 6\n",
        "\t\t\t\t\tx = x[, 2*(1:n2 )-1,drop=FALSE]   # 1, 3, 5\n",
        "\n",
        "\t\t\t\t} else {\t# FDR follows Fold-change\n",
        "\t\t\t\t\tpvals = x [,2*(1:n2 )-1,drop=FALSE ]  # 2, 4, 6\t\t\n",
        "\t\t\t\t\tx = x[, 2*(1: n2 ),drop=FALSE]   # 1, 3, 5\n",
        "\t\t\t\t}\n",
        "\t\t\t}\n",
        "\t\tix =  which(apply(x,1, function(y) max(y)- min(y) ) > 0  )\n",
        "\t\tx <- x[ix,]  # remove rows with all the same levels\n",
        "\t\tif(!is.null(pvals) )\n",
        "\t\t\tpvals = pvals[ix,]\n",
        "\t\t\t\n",
        "\t\t}\n",
        "\t\t\n",
        "\t\t\n",
        "\tdataSize = dim(x);\n",
        "\tif(!(dim(x)[1]>5 & dim(x)[2]>1)) \n",
        "\tstop ( \"Data file not recognized. Please double check.\")\n",
        "\n",
        "\n",
        "\t\n",
        "\tsampleInfoDemo=NULL\n",
        "\tif( input_goButton >0)\n",
        "\t\tsampleInfoDemo <- t( read.csv(demoDataFile2,row.names=1,header=T,colClasses=\"character\") )\n",
        "\n",
        "\t\tfinalResult <- list(data = as.matrix(x), mean.kurtosis = mean.kurtosis, rawCounts = rawCounts, dataTypeWarning=dataTypeWarning, dataSize=c(dataSizeOriginal,dataSize),sampleInfoDemo=sampleInfoDemo, pvals =pvals )\n",
        "\treturn(finalResult)\n",
        "\n",
        "}"
      ],
      "execution_count": 2,
      "outputs": []
    },
    {
      "cell_type": "code",
      "metadata": {
        "id": "3MnCjWYQVxXq",
        "outputId": "9bf974d2-7aa9-4692-e33c-ac0a01fb0af8",
        "colab": {
          "base_uri": "https://localhost:8080/",
          "height": 241
        }
      },
      "source": [
        "new.bio.packages <- c(\"edgeR\", \"DESeq2\")\n",
        "if(length(new.bio.packages)){\n",
        "    if (!requireNamespace(\"BiocManager\", quietly = TRUE))\n",
        "    install.packages(\"BiocManager\")\n",
        "    BiocManager::install(new.bio.packages, suppressUpdates = T)\n",
        "}\t"
      ],
      "execution_count": 3,
      "outputs": [
        {
          "output_type": "stream",
          "text": [
            "Installing package into ‘/usr/local/lib/R/site-library’\n",
            "(as ‘lib’ is unspecified)\n",
            "\n",
            "Bioconductor version 3.11 (BiocManager 1.30.10), R 4.0.3 (2020-10-10)\n",
            "\n",
            "Installing package(s) 'BiocVersion', 'edgeR', 'DESeq2'\n",
            "\n",
            "also installing the dependencies ‘bit’, ‘bitops’, ‘formatR’, ‘bit64’, ‘plogr’, ‘RCurl’, ‘GenomeInfoDbData’, ‘zlibbioc’, ‘matrixStats’, ‘lambda.r’, ‘futile.options’, ‘RSQLite’, ‘XML’, ‘xtable’, ‘GenomeInfoDb’, ‘XVector’, ‘DelayedArray’, ‘futile.logger’, ‘snow’, ‘AnnotationDbi’, ‘annotate’, ‘limma’, ‘locfit’, ‘S4Vectors’, ‘IRanges’, ‘GenomicRanges’, ‘SummarizedExperiment’, ‘BiocGenerics’, ‘Biobase’, ‘BiocParallel’, ‘genefilter’, ‘geneplotter’, ‘RcppArmadillo’\n",
            "\n",
            "\n",
            "Old packages: 'pbdZMQ', 'callr', 'cpp11', 'digest', 'DT', 'foreign'\n",
            "\n"
          ],
          "name": "stderr"
        }
      ]
    },
    {
      "cell_type": "code",
      "metadata": {
        "id": "NJ9HJEW1ZI-C",
        "outputId": "f52d58cc-11fe-4cdf-9ed9-23be2d132979",
        "colab": {
          "base_uri": "https://localhost:8080/",
          "height": 1000
        }
      },
      "source": [
        "readData.out <- readData(expression_file)"
      ],
      "execution_count": 4,
      "outputs": [
        {
          "output_type": "stream",
          "text": [
            "Loading required package: limma\n",
            "\n",
            "Loading required package: S4Vectors\n",
            "\n",
            "Loading required package: stats4\n",
            "\n",
            "Loading required package: BiocGenerics\n",
            "\n",
            "Loading required package: parallel\n",
            "\n",
            "\n",
            "Attaching package: ‘BiocGenerics’\n",
            "\n",
            "\n",
            "The following objects are masked from ‘package:parallel’:\n",
            "\n",
            "    clusterApply, clusterApplyLB, clusterCall, clusterEvalQ,\n",
            "    clusterExport, clusterMap, parApply, parCapply, parLapply,\n",
            "    parLapplyLB, parRapply, parSapply, parSapplyLB\n",
            "\n",
            "\n",
            "The following object is masked from ‘package:limma’:\n",
            "\n",
            "    plotMA\n",
            "\n",
            "\n",
            "The following objects are masked from ‘package:stats’:\n",
            "\n",
            "    IQR, mad, sd, var, xtabs\n",
            "\n",
            "\n",
            "The following objects are masked from ‘package:base’:\n",
            "\n",
            "    anyDuplicated, append, as.data.frame, basename, cbind, colnames,\n",
            "    dirname, do.call, duplicated, eval, evalq, Filter, Find, get, grep,\n",
            "    grepl, intersect, is.unsorted, lapply, Map, mapply, match, mget,\n",
            "    order, paste, pmax, pmax.int, pmin, pmin.int, Position, rank,\n",
            "    rbind, Reduce, rownames, sapply, setdiff, sort, table, tapply,\n",
            "    union, unique, unsplit, which, which.max, which.min\n",
            "\n",
            "\n",
            "\n",
            "Attaching package: ‘S4Vectors’\n",
            "\n",
            "\n",
            "The following object is masked from ‘package:base’:\n",
            "\n",
            "    expand.grid\n",
            "\n",
            "\n",
            "Loading required package: IRanges\n",
            "\n",
            "Loading required package: GenomicRanges\n",
            "\n",
            "Loading required package: GenomeInfoDb\n",
            "\n",
            "Loading required package: SummarizedExperiment\n",
            "\n",
            "Loading required package: Biobase\n",
            "\n",
            "Welcome to Bioconductor\n",
            "\n",
            "    Vignettes contain introductory material; view with\n",
            "    'browseVignettes()'. To cite Bioconductor, see\n",
            "    'citation(\"Biobase\")', and for packages 'citation(\"pkgname\")'.\n",
            "\n",
            "\n",
            "Loading required package: DelayedArray\n",
            "\n",
            "Loading required package: matrixStats\n",
            "\n",
            "\n",
            "Attaching package: ‘matrixStats’\n",
            "\n",
            "\n",
            "The following objects are masked from ‘package:Biobase’:\n",
            "\n",
            "    anyMissing, rowMedians\n",
            "\n",
            "\n",
            "\n",
            "Attaching package: ‘DelayedArray’\n",
            "\n",
            "\n",
            "The following objects are masked from ‘package:matrixStats’:\n",
            "\n",
            "    colMaxs, colMins, colRanges, rowMaxs, rowMins, rowRanges\n",
            "\n",
            "\n",
            "The following objects are masked from ‘package:base’:\n",
            "\n",
            "    aperm, apply, rowsum\n",
            "\n",
            "\n"
          ],
          "name": "stderr"
        },
        {
          "output_type": "error",
          "ename": "ERROR",
          "evalue": "ignored",
          "traceback": [
            "Error in h(simpleError(msg, call)): error in evaluating the argument 'x' in selecting a method for function 'mean': object 'kurtosis' not found\nTraceback:\n",
            "1. readData(expression_file)",
            "2. mean(apply(x, 2, kurtosis), na.rm = T)   # at line 75 of file <text>",
            "3. apply(x, 2, kurtosis)   # at line 75 of file <text>",
            "4. apply(x, 2, kurtosis)",
            "5. match.fun(FUN)",
            "6. .handleSimpleError(function (cond) \n . .Internal(C_tryCatchHelper(addr, 1L, cond)), \"object 'kurtosis' not found\", \n .     base::quote(apply(x, 2, kurtosis)))   # at line 75 of file <text>",
            "7. h(simpleError(msg, call))"
          ]
        }
      ]
    },
    {
      "cell_type": "code",
      "metadata": {
        "id": "o6fpy9LLYuMt",
        "outputId": "ee5335fa-66ba-4930-897d-5979f9d748a9",
        "colab": {
          "base_uri": "https://localhost:8080/",
          "height": 68
        }
      },
      "source": [
        "install.packages(\"e1071\")\n",
        "library(\"e1071\")"
      ],
      "execution_count": 5,
      "outputs": [
        {
          "output_type": "stream",
          "text": [
            "Installing package into ‘/usr/local/lib/R/site-library’\n",
            "(as ‘lib’ is unspecified)\n",
            "\n"
          ],
          "name": "stderr"
        }
      ]
    },
    {
      "cell_type": "code",
      "metadata": {
        "id": "c-4HYaDzZWoY",
        "outputId": "7ce24da7-9ae4-4a8e-9772-d6c3eea8eaf7",
        "colab": {
          "base_uri": "https://localhost:8080/",
          "height": 129
        }
      },
      "source": [
        "readData.out <- readData(expression_file)"
      ],
      "execution_count": 6,
      "outputs": [
        {
          "output_type": "error",
          "ename": "ERROR",
          "evalue": "ignored",
          "traceback": [
            "Error in readData(expression_file): object 'input_dataFileFormat' not found\nTraceback:\n",
            "1. readData(expression_file)"
          ]
        }
      ]
    },
    {
      "cell_type": "code",
      "metadata": {
        "id": "jLgs0qySZwxM",
        "outputId": "70983b26-1083-4bff-a742-3909c553baea",
        "colab": {
          "base_uri": "https://localhost:8080/",
          "height": 85
        }
      },
      "source": [
        "input_dataFileFormat <- 1\n",
        "kurtosis.log = 50  # log transform is enforced when kurtosis is big\n",
        "# Parameters\n",
        "input_missingValue <- 'geneMedian'\t#Missing values imputation method\n",
        "input_dataFileFormat <- 1\t#1- read counts, 2 FKPM/RPKM or DNA microarray\n",
        "input_minCounts <- 0.5\t#Min counts\n",
        "input_NminSamples <- 1\t#Minimum number of samples \n",
        "input_countsLogStart <- 4\t#Pseudo count for log CPM\n",
        "input_CountsTransform <- 1\t#Methods for data transformation of counts. 1-EdgeR's logCPM; 2-VST; 3-rlog \n",
        "input_goButton=0\n",
        "readData.out <- readData(expression_file)"
      ],
      "execution_count": 7,
      "outputs": [
        {
          "output_type": "stream",
          "text": [
            "converting counts to integer mode\n",
            "\n",
            "Warning message in DESeqDataSet(se, design = design, ignoreRank):\n",
            "“some variables in design formula are characters, converting to factors”\n"
          ],
          "name": "stderr"
        }
      ]
    },
    {
      "cell_type": "code",
      "metadata": {
        "id": "dzad9mtUvpBJ",
        "outputId": "33525473-d025-4061-a996-f7b533463a94",
        "colab": {
          "base_uri": "https://localhost:8080/",
          "height": 183
        }
      },
      "source": [
        "head(readData.out$data)"
      ],
      "execution_count": 8,
      "outputs": [
        {
          "output_type": "display_data",
          "data": {
            "text/plain": [
              "                   p53_mock_1 p53_mock_2 p53_mock_3 p53_mock_4 p53_IR_1\n",
              "ENSMUSG00000075014  5.986190  10.245204  11.622005  12.445437  19.58986\n",
              "ENSMUSG00000076617 18.174331  18.020764  17.901045  16.892389  18.06544\n",
              "ENSMUSG00000015656 15.349228  15.086274  15.392536  14.817324  15.95674\n",
              "ENSMUSG00000052305 13.766147  11.436670  10.523028  15.927563  10.57175\n",
              "ENSMUSG00000069917 13.511114  11.202619  10.240337  15.915347  10.33765\n",
              "ENSMUSG00000075015  4.023733   7.791965   9.161421   9.809036  16.98655\n",
              "                   p53_IR_2 p53_IR_3  p53_IR_4 null_mock_1 null_mock_2\n",
              "ENSMUSG00000075014 21.07925  8.279954 17.40506 13.23741    12.91427   \n",
              "ENSMUSG00000076617 18.52019 16.933927 17.68636 17.18909    17.39665   \n",
              "ENSMUSG00000015656 15.75896 16.233039 16.04712 15.03582    14.98886   \n",
              "ENSMUSG00000052305 11.22625 10.125088 10.20851 11.81668    17.59129   \n",
              "ENSMUSG00000069917 11.20676 10.280270 10.32910 11.51218    17.41403   \n",
              "ENSMUSG00000075015 18.47457  5.767006 14.96939 10.59269    10.25800   \n",
              "                   null_IR_1 null_IR_2\n",
              "ENSMUSG00000075014  6.949322 14.57512 \n",
              "ENSMUSG00000076617 17.663021 17.21374 \n",
              "ENSMUSG00000015656 18.603855 17.00075 \n",
              "ENSMUSG00000052305 10.311098 15.82093 \n",
              "ENSMUSG00000069917 10.236792 15.73450 \n",
              "ENSMUSG00000075015  4.742948 12.00540 "
            ],
            "text/latex": "A matrix: 6 × 12 of type dbl\n\\begin{tabular}{r|llllllllllll}\n  & p53\\_mock\\_1 & p53\\_mock\\_2 & p53\\_mock\\_3 & p53\\_mock\\_4 & p53\\_IR\\_1 & p53\\_IR\\_2 & p53\\_IR\\_3 & p53\\_IR\\_4 & null\\_mock\\_1 & null\\_mock\\_2 & null\\_IR\\_1 & null\\_IR\\_2\\\\\n\\hline\n\tENSMUSG00000075014 &  5.986190 & 10.245204 & 11.622005 & 12.445437 & 19.58986 & 21.07925 &  8.279954 & 17.40506 & 13.23741 & 12.91427 &  6.949322 & 14.57512\\\\\n\tENSMUSG00000076617 & 18.174331 & 18.020764 & 17.901045 & 16.892389 & 18.06544 & 18.52019 & 16.933927 & 17.68636 & 17.18909 & 17.39665 & 17.663021 & 17.21374\\\\\n\tENSMUSG00000015656 & 15.349228 & 15.086274 & 15.392536 & 14.817324 & 15.95674 & 15.75896 & 16.233039 & 16.04712 & 15.03582 & 14.98886 & 18.603855 & 17.00075\\\\\n\tENSMUSG00000052305 & 13.766147 & 11.436670 & 10.523028 & 15.927563 & 10.57175 & 11.22625 & 10.125088 & 10.20851 & 11.81668 & 17.59129 & 10.311098 & 15.82093\\\\\n\tENSMUSG00000069917 & 13.511114 & 11.202619 & 10.240337 & 15.915347 & 10.33765 & 11.20676 & 10.280270 & 10.32910 & 11.51218 & 17.41403 & 10.236792 & 15.73450\\\\\n\tENSMUSG00000075015 &  4.023733 &  7.791965 &  9.161421 &  9.809036 & 16.98655 & 18.47457 &  5.767006 & 14.96939 & 10.59269 & 10.25800 &  4.742948 & 12.00540\\\\\n\\end{tabular}\n",
            "text/markdown": "\nA matrix: 6 × 12 of type dbl\n\n| <!--/--> | p53_mock_1 | p53_mock_2 | p53_mock_3 | p53_mock_4 | p53_IR_1 | p53_IR_2 | p53_IR_3 | p53_IR_4 | null_mock_1 | null_mock_2 | null_IR_1 | null_IR_2 |\n|---|---|---|---|---|---|---|---|---|---|---|---|---|\n| ENSMUSG00000075014 |  5.986190 | 10.245204 | 11.622005 | 12.445437 | 19.58986 | 21.07925 |  8.279954 | 17.40506 | 13.23741 | 12.91427 |  6.949322 | 14.57512 |\n| ENSMUSG00000076617 | 18.174331 | 18.020764 | 17.901045 | 16.892389 | 18.06544 | 18.52019 | 16.933927 | 17.68636 | 17.18909 | 17.39665 | 17.663021 | 17.21374 |\n| ENSMUSG00000015656 | 15.349228 | 15.086274 | 15.392536 | 14.817324 | 15.95674 | 15.75896 | 16.233039 | 16.04712 | 15.03582 | 14.98886 | 18.603855 | 17.00075 |\n| ENSMUSG00000052305 | 13.766147 | 11.436670 | 10.523028 | 15.927563 | 10.57175 | 11.22625 | 10.125088 | 10.20851 | 11.81668 | 17.59129 | 10.311098 | 15.82093 |\n| ENSMUSG00000069917 | 13.511114 | 11.202619 | 10.240337 | 15.915347 | 10.33765 | 11.20676 | 10.280270 | 10.32910 | 11.51218 | 17.41403 | 10.236792 | 15.73450 |\n| ENSMUSG00000075015 |  4.023733 |  7.791965 |  9.161421 |  9.809036 | 16.98655 | 18.47457 |  5.767006 | 14.96939 | 10.59269 | 10.25800 |  4.742948 | 12.00540 |\n\n",
            "text/html": [
              "<table>\n",
              "<caption>A matrix: 6 × 12 of type dbl</caption>\n",
              "<thead>\n",
              "\t<tr><th></th><th scope=col>p53_mock_1</th><th scope=col>p53_mock_2</th><th scope=col>p53_mock_3</th><th scope=col>p53_mock_4</th><th scope=col>p53_IR_1</th><th scope=col>p53_IR_2</th><th scope=col>p53_IR_3</th><th scope=col>p53_IR_4</th><th scope=col>null_mock_1</th><th scope=col>null_mock_2</th><th scope=col>null_IR_1</th><th scope=col>null_IR_2</th></tr>\n",
              "</thead>\n",
              "<tbody>\n",
              "\t<tr><th scope=row>ENSMUSG00000075014</th><td> 5.986190</td><td>10.245204</td><td>11.622005</td><td>12.445437</td><td>19.58986</td><td>21.07925</td><td> 8.279954</td><td>17.40506</td><td>13.23741</td><td>12.91427</td><td> 6.949322</td><td>14.57512</td></tr>\n",
              "\t<tr><th scope=row>ENSMUSG00000076617</th><td>18.174331</td><td>18.020764</td><td>17.901045</td><td>16.892389</td><td>18.06544</td><td>18.52019</td><td>16.933927</td><td>17.68636</td><td>17.18909</td><td>17.39665</td><td>17.663021</td><td>17.21374</td></tr>\n",
              "\t<tr><th scope=row>ENSMUSG00000015656</th><td>15.349228</td><td>15.086274</td><td>15.392536</td><td>14.817324</td><td>15.95674</td><td>15.75896</td><td>16.233039</td><td>16.04712</td><td>15.03582</td><td>14.98886</td><td>18.603855</td><td>17.00075</td></tr>\n",
              "\t<tr><th scope=row>ENSMUSG00000052305</th><td>13.766147</td><td>11.436670</td><td>10.523028</td><td>15.927563</td><td>10.57175</td><td>11.22625</td><td>10.125088</td><td>10.20851</td><td>11.81668</td><td>17.59129</td><td>10.311098</td><td>15.82093</td></tr>\n",
              "\t<tr><th scope=row>ENSMUSG00000069917</th><td>13.511114</td><td>11.202619</td><td>10.240337</td><td>15.915347</td><td>10.33765</td><td>11.20676</td><td>10.280270</td><td>10.32910</td><td>11.51218</td><td>17.41403</td><td>10.236792</td><td>15.73450</td></tr>\n",
              "\t<tr><th scope=row>ENSMUSG00000075015</th><td> 4.023733</td><td> 7.791965</td><td> 9.161421</td><td> 9.809036</td><td>16.98655</td><td>18.47457</td><td> 5.767006</td><td>14.96939</td><td>10.59269</td><td>10.25800</td><td> 4.742948</td><td>12.00540</td></tr>\n",
              "</tbody>\n",
              "</table>\n"
            ]
          },
          "metadata": {
            "tags": []
          }
        }
      ]
    },
    {
      "cell_type": "code",
      "metadata": {
        "id": "i3F2x4IIv4eG",
        "outputId": "6ee3ae8f-7aef-4392-d530-04853523c1c3",
        "colab": {
          "base_uri": "https://localhost:8080/",
          "height": 34
        }
      },
      "source": [
        "dim(readData.out$data)"
      ],
      "execution_count": 9,
      "outputs": [
        {
          "output_type": "display_data",
          "data": {
            "text/plain": [
              "[1] 6882   12"
            ],
            "text/latex": "\\begin{enumerate*}\n\\item 6882\n\\item 12\n\\end{enumerate*}\n",
            "text/markdown": "1. 6882\n2. 12\n\n\n",
            "text/html": [
              "<style>\n",
              ".list-inline {list-style: none; margin:0; padding: 0}\n",
              ".list-inline>li {display: inline-block}\n",
              ".list-inline>li:not(:last-child)::after {content: \"\\00b7\"; padding: 0 .5ex}\n",
              "</style>\n",
              "<ol class=list-inline><li>6882</li><li>12</li></ol>\n"
            ]
          },
          "metadata": {
            "tags": []
          }
        }
      ]
    },
    {
      "cell_type": "code",
      "metadata": {
        "id": "ArybY2FETXtE"
      },
      "source": [
        "readSampleInfo <- function(inFile){\n",
        "\n",
        "\tdataTypeWarning =0\n",
        "\tdataType =c(TRUE)\n",
        "\n",
        "\t#---------------Read file\n",
        "\tx <- read.csv(inFile,row.names=1,header=T,colClasses=\"character\")\t# try CSV\n",
        "\tif(dim(x)[2] <= 2 )   # if less than 3 columns, try tab-deliminated\n",
        "\t\tx <- read.table(inFile, row.names=1,sep=\"\\t\",header=TRUE,colClasses=\"character\")\n",
        "\t# remove \"-\" or \".\" from sample names\n",
        "\tcolnames(x) = gsub(\"-\",\"\",colnames(x))\n",
        "\tcolnames(x) = gsub(\"\\\\.\",\"\",colnames(x))\t\n",
        "\n",
        "\t#----------------Matching with column names of expression file\n",
        "\t#ix = match(toupper(colnames(readData.out$data)), toupper(colnames(x)) ) \n",
        "\tix = match(toupper(colnames(readData.out$data)), toupper(gsub(\"wt\",\"p53\",colnames(x))))\n",
        "\tix = ix[which(!is.na(ix))] # remove NA\n",
        "\n",
        "\tif(! ( length(unique(ix) ) == dim(readData.out$data)[2] \n",
        "\t\t\t\t& dim(x)[1]>=1 & dim(x)[1] <500 ) ) # at least one row, it can not be more than 500 rows\n",
        "\t\tstop( \"Error!!! Sample information file not recognized. Sample names must be exactly the same. Each row is a factor. Each column represent a sample.  Please see documentation on format.\")\n",
        "\t\n",
        "\t\n",
        "\t#-----------Double check factor levels, change if needed\n",
        "\t# remove \"-\" or \".\" from factor levels\n",
        "\tfor( i in 1:dim(x)[1]) {\n",
        "\t\tx[i,] = gsub(\"-\",\"\",x[i,])\n",
        "\t\tx[i,] = gsub(\"\\\\.\",\"\",x[i,])\t\t\t\t\n",
        "\t}\n",
        "\t# if levels from different factors match\n",
        "\tif( length(unique(ix) ) == dim(readData.out$data)[2]) { # matches exactly\n",
        "\t\tx = x[,ix]\n",
        "\t\t# if the levels of different factors are the same, it may cause problems\n",
        "\t\tif( sum( apply(x, 1, function(y) length(unique(y)))) > length(unique(unlist(x) ) ) ) {\n",
        "\t\t\ttem2 =apply(x,2, function(y) paste0( names(y),y)) # factor names are added to levels\n",
        "\t\t\trownames(tem2) = rownames(x)\n",
        "\t\t\tx <- tem2\t\t\t\t\n",
        "\t\t}\n",
        "\t\treturn(t( x ) )\t\t\t\n",
        "\t} else retrun(NULL)\n",
        "\t\t\t\t\n",
        "\t\n",
        "}"
      ],
      "execution_count": 10,
      "outputs": []
    },
    {
      "cell_type": "code",
      "metadata": {
        "id": "ymunPBAya0dI"
      },
      "source": [
        "readSampleInfo.out <- readSampleInfo(sampleInfoFile) "
      ],
      "execution_count": 11,
      "outputs": []
    },
    {
      "cell_type": "code",
      "metadata": {
        "id": "W8D07qPlv9NY",
        "outputId": "fefab3fb-2272-4956-ad3f-dfbe4788a8b8",
        "colab": {
          "base_uri": "https://localhost:8080/",
          "height": 183
        }
      },
      "source": [
        "head(readSampleInfo.out)"
      ],
      "execution_count": 12,
      "outputs": [
        {
          "output_type": "display_data",
          "data": {
            "text/plain": [
              "          p53 Treatment\n",
              "wt_mock_1 wt  mock     \n",
              "wt_mock_2 wt  mock     \n",
              "wt_mock_3 wt  mock     \n",
              "wt_mock_4 wt  mock     \n",
              "wt_IR_1   wt  IR       \n",
              "wt_IR_2   wt  IR       "
            ],
            "text/latex": "A matrix: 6 × 2 of type chr\n\\begin{tabular}{r|ll}\n  & p53 & Treatment\\\\\n\\hline\n\twt\\_mock\\_1 & wt & mock\\\\\n\twt\\_mock\\_2 & wt & mock\\\\\n\twt\\_mock\\_3 & wt & mock\\\\\n\twt\\_mock\\_4 & wt & mock\\\\\n\twt\\_IR\\_1 & wt & IR  \\\\\n\twt\\_IR\\_2 & wt & IR  \\\\\n\\end{tabular}\n",
            "text/markdown": "\nA matrix: 6 × 2 of type chr\n\n| <!--/--> | p53 | Treatment |\n|---|---|---|\n| wt_mock_1 | wt | mock |\n| wt_mock_2 | wt | mock |\n| wt_mock_3 | wt | mock |\n| wt_mock_4 | wt | mock |\n| wt_IR_1 | wt | IR   |\n| wt_IR_2 | wt | IR   |\n\n",
            "text/html": [
              "<table>\n",
              "<caption>A matrix: 6 × 2 of type chr</caption>\n",
              "<thead>\n",
              "\t<tr><th></th><th scope=col>p53</th><th scope=col>Treatment</th></tr>\n",
              "</thead>\n",
              "<tbody>\n",
              "\t<tr><th scope=row>wt_mock_1</th><td>wt</td><td>mock</td></tr>\n",
              "\t<tr><th scope=row>wt_mock_2</th><td>wt</td><td>mock</td></tr>\n",
              "\t<tr><th scope=row>wt_mock_3</th><td>wt</td><td>mock</td></tr>\n",
              "\t<tr><th scope=row>wt_mock_4</th><td>wt</td><td>mock</td></tr>\n",
              "\t<tr><th scope=row>wt_IR_1</th><td>wt</td><td>IR  </td></tr>\n",
              "\t<tr><th scope=row>wt_IR_2</th><td>wt</td><td>IR  </td></tr>\n",
              "</tbody>\n",
              "</table>\n"
            ]
          },
          "metadata": {
            "tags": []
          }
        }
      ]
    },
    {
      "cell_type": "code",
      "metadata": {
        "id": "ceaHF3sjwABF",
        "outputId": "d0202be4-62a1-4a5b-9d05-caa8d1a94381",
        "colab": {
          "base_uri": "https://localhost:8080/",
          "height": 34
        }
      },
      "source": [
        "dim(readSampleInfo.out)"
      ],
      "execution_count": 13,
      "outputs": [
        {
          "output_type": "display_data",
          "data": {
            "text/plain": [
              "[1] 12  2"
            ],
            "text/latex": "\\begin{enumerate*}\n\\item 12\n\\item 2\n\\end{enumerate*}\n",
            "text/markdown": "1. 12\n2. 2\n\n\n",
            "text/html": [
              "<style>\n",
              ".list-inline {list-style: none; margin:0; padding: 0}\n",
              ".list-inline>li {display: inline-block}\n",
              ".list-inline>li:not(:last-child)::after {content: \"\\00b7\"; padding: 0 .5ex}\n",
              "</style>\n",
              "<ol class=list-inline><li>12</li><li>2</li></ol>\n"
            ]
          },
          "metadata": {
            "tags": []
          }
        }
      ]
    },
    {
      "cell_type": "code",
      "metadata": {
        "id": "k7xhoWoQgiE1"
      },
      "source": [
        "convertedData <- function() {\n",
        "\tif( is.null(converted.out ) ) return( readData.out$data) # if id or species is not recognized use original data.\n",
        "\t\t\n",
        "\t\t\tif(input_noIDConversion) return( readData.out$data )\n",
        "\t\t\t\n",
        "\t\t\tmapping <- converted.out$conversionTable\n",
        "\t\t\t# cat (paste( \"\\nData:\",input_selectOrg) )\n",
        "\t\t\tx =readData.out$data\n",
        "\n",
        "\t\t\trownames(x) = toupper(rownames(x))\n",
        "\t\t\t# any gene not recognized by the database is disregarded\n",
        "\t\t\t# x1 = merge(mapping[,1:2],x,  by.y = 'row.names', by.x = 'User_input')\n",
        "\t\t\t# the 3 lines keeps the unrecogized genes using original IDs\n",
        "\t\t\tx1 = merge(mapping[,1:2],x,  by.y = 'row.names', by.x = 'User_input', all.y=TRUE)\n",
        "\n",
        "\t\t\t# original IDs used if ID is not matched in database\n",
        "\t\t\tix = which(is.na(x1[,2]) )\n",
        "\t\t\tx1[ix,2] = x1[ix,1] \n",
        "\t\t\t\n",
        "\t\t\t#multiple matched IDs, use the one with highest SD\n",
        "\t\t\ttem = apply(x1[,3:(dim(x1)[2])],1,sd)\n",
        "\t\t\tx1 = x1[order(x1[,2],-tem),]\n",
        "\t\t\tx1 = x1[!duplicated(x1[,2]) ,]\n",
        "\t\t\trownames(x1) = x1[,2]\n",
        "\t\t\tx1 = as.matrix(x1[,c(-1,-2)])\n",
        "\t\t\ttem = apply(x1,1,sd)\n",
        "\t\t\tx1 = x1[order(-tem),]  # sort again by SD\n",
        "\t\t\treturn(x1)\n",
        "\n",
        "}"
      ],
      "execution_count": 14,
      "outputs": []
    },
    {
      "cell_type": "code",
      "metadata": {
        "id": "vhbuzxRwbJPI"
      },
      "source": [
        "converted.out = NULL\n",
        "convertedData.out <- convertedData()"
      ],
      "execution_count": 16,
      "outputs": []
    },
    {
      "cell_type": "code",
      "metadata": {
        "id": "2E78ZWaBwEBA",
        "outputId": "04ce6ccb-34cd-4449-979a-c6dabc27ae0d",
        "colab": {
          "base_uri": "https://localhost:8080/",
          "height": 183
        }
      },
      "source": [
        "head(convertedData.out)"
      ],
      "execution_count": 17,
      "outputs": [
        {
          "output_type": "display_data",
          "data": {
            "text/plain": [
              "                   p53_mock_1 p53_mock_2 p53_mock_3 p53_mock_4 p53_IR_1\n",
              "ENSMUSG00000075014  5.986190  10.245204  11.622005  12.445437  19.58986\n",
              "ENSMUSG00000076617 18.174331  18.020764  17.901045  16.892389  18.06544\n",
              "ENSMUSG00000015656 15.349228  15.086274  15.392536  14.817324  15.95674\n",
              "ENSMUSG00000052305 13.766147  11.436670  10.523028  15.927563  10.57175\n",
              "ENSMUSG00000069917 13.511114  11.202619  10.240337  15.915347  10.33765\n",
              "ENSMUSG00000075015  4.023733   7.791965   9.161421   9.809036  16.98655\n",
              "                   p53_IR_2 p53_IR_3  p53_IR_4 null_mock_1 null_mock_2\n",
              "ENSMUSG00000075014 21.07925  8.279954 17.40506 13.23741    12.91427   \n",
              "ENSMUSG00000076617 18.52019 16.933927 17.68636 17.18909    17.39665   \n",
              "ENSMUSG00000015656 15.75896 16.233039 16.04712 15.03582    14.98886   \n",
              "ENSMUSG00000052305 11.22625 10.125088 10.20851 11.81668    17.59129   \n",
              "ENSMUSG00000069917 11.20676 10.280270 10.32910 11.51218    17.41403   \n",
              "ENSMUSG00000075015 18.47457  5.767006 14.96939 10.59269    10.25800   \n",
              "                   null_IR_1 null_IR_2\n",
              "ENSMUSG00000075014  6.949322 14.57512 \n",
              "ENSMUSG00000076617 17.663021 17.21374 \n",
              "ENSMUSG00000015656 18.603855 17.00075 \n",
              "ENSMUSG00000052305 10.311098 15.82093 \n",
              "ENSMUSG00000069917 10.236792 15.73450 \n",
              "ENSMUSG00000075015  4.742948 12.00540 "
            ],
            "text/latex": "A matrix: 6 × 12 of type dbl\n\\begin{tabular}{r|llllllllllll}\n  & p53\\_mock\\_1 & p53\\_mock\\_2 & p53\\_mock\\_3 & p53\\_mock\\_4 & p53\\_IR\\_1 & p53\\_IR\\_2 & p53\\_IR\\_3 & p53\\_IR\\_4 & null\\_mock\\_1 & null\\_mock\\_2 & null\\_IR\\_1 & null\\_IR\\_2\\\\\n\\hline\n\tENSMUSG00000075014 &  5.986190 & 10.245204 & 11.622005 & 12.445437 & 19.58986 & 21.07925 &  8.279954 & 17.40506 & 13.23741 & 12.91427 &  6.949322 & 14.57512\\\\\n\tENSMUSG00000076617 & 18.174331 & 18.020764 & 17.901045 & 16.892389 & 18.06544 & 18.52019 & 16.933927 & 17.68636 & 17.18909 & 17.39665 & 17.663021 & 17.21374\\\\\n\tENSMUSG00000015656 & 15.349228 & 15.086274 & 15.392536 & 14.817324 & 15.95674 & 15.75896 & 16.233039 & 16.04712 & 15.03582 & 14.98886 & 18.603855 & 17.00075\\\\\n\tENSMUSG00000052305 & 13.766147 & 11.436670 & 10.523028 & 15.927563 & 10.57175 & 11.22625 & 10.125088 & 10.20851 & 11.81668 & 17.59129 & 10.311098 & 15.82093\\\\\n\tENSMUSG00000069917 & 13.511114 & 11.202619 & 10.240337 & 15.915347 & 10.33765 & 11.20676 & 10.280270 & 10.32910 & 11.51218 & 17.41403 & 10.236792 & 15.73450\\\\\n\tENSMUSG00000075015 &  4.023733 &  7.791965 &  9.161421 &  9.809036 & 16.98655 & 18.47457 &  5.767006 & 14.96939 & 10.59269 & 10.25800 &  4.742948 & 12.00540\\\\\n\\end{tabular}\n",
            "text/markdown": "\nA matrix: 6 × 12 of type dbl\n\n| <!--/--> | p53_mock_1 | p53_mock_2 | p53_mock_3 | p53_mock_4 | p53_IR_1 | p53_IR_2 | p53_IR_3 | p53_IR_4 | null_mock_1 | null_mock_2 | null_IR_1 | null_IR_2 |\n|---|---|---|---|---|---|---|---|---|---|---|---|---|\n| ENSMUSG00000075014 |  5.986190 | 10.245204 | 11.622005 | 12.445437 | 19.58986 | 21.07925 |  8.279954 | 17.40506 | 13.23741 | 12.91427 |  6.949322 | 14.57512 |\n| ENSMUSG00000076617 | 18.174331 | 18.020764 | 17.901045 | 16.892389 | 18.06544 | 18.52019 | 16.933927 | 17.68636 | 17.18909 | 17.39665 | 17.663021 | 17.21374 |\n| ENSMUSG00000015656 | 15.349228 | 15.086274 | 15.392536 | 14.817324 | 15.95674 | 15.75896 | 16.233039 | 16.04712 | 15.03582 | 14.98886 | 18.603855 | 17.00075 |\n| ENSMUSG00000052305 | 13.766147 | 11.436670 | 10.523028 | 15.927563 | 10.57175 | 11.22625 | 10.125088 | 10.20851 | 11.81668 | 17.59129 | 10.311098 | 15.82093 |\n| ENSMUSG00000069917 | 13.511114 | 11.202619 | 10.240337 | 15.915347 | 10.33765 | 11.20676 | 10.280270 | 10.32910 | 11.51218 | 17.41403 | 10.236792 | 15.73450 |\n| ENSMUSG00000075015 |  4.023733 |  7.791965 |  9.161421 |  9.809036 | 16.98655 | 18.47457 |  5.767006 | 14.96939 | 10.59269 | 10.25800 |  4.742948 | 12.00540 |\n\n",
            "text/html": [
              "<table>\n",
              "<caption>A matrix: 6 × 12 of type dbl</caption>\n",
              "<thead>\n",
              "\t<tr><th></th><th scope=col>p53_mock_1</th><th scope=col>p53_mock_2</th><th scope=col>p53_mock_3</th><th scope=col>p53_mock_4</th><th scope=col>p53_IR_1</th><th scope=col>p53_IR_2</th><th scope=col>p53_IR_3</th><th scope=col>p53_IR_4</th><th scope=col>null_mock_1</th><th scope=col>null_mock_2</th><th scope=col>null_IR_1</th><th scope=col>null_IR_2</th></tr>\n",
              "</thead>\n",
              "<tbody>\n",
              "\t<tr><th scope=row>ENSMUSG00000075014</th><td> 5.986190</td><td>10.245204</td><td>11.622005</td><td>12.445437</td><td>19.58986</td><td>21.07925</td><td> 8.279954</td><td>17.40506</td><td>13.23741</td><td>12.91427</td><td> 6.949322</td><td>14.57512</td></tr>\n",
              "\t<tr><th scope=row>ENSMUSG00000076617</th><td>18.174331</td><td>18.020764</td><td>17.901045</td><td>16.892389</td><td>18.06544</td><td>18.52019</td><td>16.933927</td><td>17.68636</td><td>17.18909</td><td>17.39665</td><td>17.663021</td><td>17.21374</td></tr>\n",
              "\t<tr><th scope=row>ENSMUSG00000015656</th><td>15.349228</td><td>15.086274</td><td>15.392536</td><td>14.817324</td><td>15.95674</td><td>15.75896</td><td>16.233039</td><td>16.04712</td><td>15.03582</td><td>14.98886</td><td>18.603855</td><td>17.00075</td></tr>\n",
              "\t<tr><th scope=row>ENSMUSG00000052305</th><td>13.766147</td><td>11.436670</td><td>10.523028</td><td>15.927563</td><td>10.57175</td><td>11.22625</td><td>10.125088</td><td>10.20851</td><td>11.81668</td><td>17.59129</td><td>10.311098</td><td>15.82093</td></tr>\n",
              "\t<tr><th scope=row>ENSMUSG00000069917</th><td>13.511114</td><td>11.202619</td><td>10.240337</td><td>15.915347</td><td>10.33765</td><td>11.20676</td><td>10.280270</td><td>10.32910</td><td>11.51218</td><td>17.41403</td><td>10.236792</td><td>15.73450</td></tr>\n",
              "\t<tr><th scope=row>ENSMUSG00000075015</th><td> 4.023733</td><td> 7.791965</td><td> 9.161421</td><td> 9.809036</td><td>16.98655</td><td>18.47457</td><td> 5.767006</td><td>14.96939</td><td>10.59269</td><td>10.25800</td><td> 4.742948</td><td>12.00540</td></tr>\n",
              "</tbody>\n",
              "</table>\n"
            ]
          },
          "metadata": {
            "tags": []
          }
        }
      ]
    },
    {
      "cell_type": "code",
      "metadata": {
        "id": "I8srA3jTwHS7",
        "outputId": "86e4867a-a387-4f97-bd16-670e0b3a1b9e",
        "colab": {
          "base_uri": "https://localhost:8080/",
          "height": 34
        }
      },
      "source": [
        "dim(convertedData.out)"
      ],
      "execution_count": 18,
      "outputs": [
        {
          "output_type": "display_data",
          "data": {
            "text/plain": [
              "[1] 6882   12"
            ],
            "text/latex": "\\begin{enumerate*}\n\\item 6882\n\\item 12\n\\end{enumerate*}\n",
            "text/markdown": "1. 6882\n2. 12\n\n\n",
            "text/html": [
              "<style>\n",
              ".list-inline {list-style: none; margin:0; padding: 0}\n",
              ".list-inline>li {display: inline-block}\n",
              ".list-inline>li:not(:last-child)::after {content: \"\\00b7\"; padding: 0 .5ex}\n",
              "</style>\n",
              "<ol class=list-inline><li>6882</li><li>12</li></ol>\n"
            ]
          },
          "metadata": {
            "tags": []
          }
        }
      ]
    },
    {
      "cell_type": "code",
      "metadata": {
        "id": "dL0E5U5UtOhW"
      },
      "source": [
        "# Define sample groups based on column names\n",
        "detectGroups <- function (x){  # x are col names\n",
        "\ttem <- gsub(\"[0-9]*$\",\"\",x) # Remove all numbers from end\n",
        "\t#tem = gsub(\"_Rep|_rep|_REP\",\"\",tem)\n",
        "\ttem <- gsub(\"_$\",\"\",tem); # remove \"_\" from end\n",
        "\ttem <- gsub(\"_Rep$\",\"\",tem); # remove \"_Rep\" from end\n",
        "\ttem <- gsub(\"_rep$\",\"\",tem); # remove \"_rep\" from end\n",
        "\ttem <- gsub(\"_REP$\",\"\",tem)  # remove \"_REP\" from end\n",
        " \treturn( tem )\n",
        "}"
      ],
      "execution_count": 19,
      "outputs": []
    },
    {
      "cell_type": "code",
      "metadata": {
        "id": "oK9kO9LuRfLU"
      },
      "source": [
        "# Define sample groups based on column names\n",
        "detectGroups_1xx <- function (x){  # x are col names\n",
        "\ttem <- gsub(\"_.+$\",\"\",x) # Remove all numbers from end\n",
        "  tem <- gsub(\"p53\",\"wt\",tem)\n",
        " \treturn( tem )\n",
        "}"
      ],
      "execution_count": 20,
      "outputs": []
    },
    {
      "cell_type": "code",
      "metadata": {
        "id": "x5Mw3oN7Tpcj",
        "outputId": "55c099c1-711a-4d28-829d-6c2c2b288634",
        "colab": {
          "base_uri": "https://localhost:8080/",
          "height": 34
        }
      },
      "source": [
        "detectGroups_1xx(colnames(convertedData.out))"
      ],
      "execution_count": 25,
      "outputs": [
        {
          "output_type": "display_data",
          "data": {
            "text/plain": [
              " [1] \"wt\"   \"wt\"   \"wt\"   \"wt\"   \"wt\"   \"wt\"   \"wt\"   \"wt\"   \"null\" \"null\"\n",
              "[11] \"null\" \"null\""
            ],
            "text/latex": "\\begin{enumerate*}\n\\item 'wt'\n\\item 'wt'\n\\item 'wt'\n\\item 'wt'\n\\item 'wt'\n\\item 'wt'\n\\item 'wt'\n\\item 'wt'\n\\item 'null'\n\\item 'null'\n\\item 'null'\n\\item 'null'\n\\end{enumerate*}\n",
            "text/markdown": "1. 'wt'\n2. 'wt'\n3. 'wt'\n4. 'wt'\n5. 'wt'\n6. 'wt'\n7. 'wt'\n8. 'wt'\n9. 'null'\n10. 'null'\n11. 'null'\n12. 'null'\n\n\n",
            "text/html": [
              "<style>\n",
              ".list-inline {list-style: none; margin:0; padding: 0}\n",
              ".list-inline>li {display: inline-block}\n",
              ".list-inline>li:not(:last-child)::after {content: \"\\00b7\"; padding: 0 .5ex}\n",
              "</style>\n",
              "<ol class=list-inline><li>'wt'</li><li>'wt'</li><li>'wt'</li><li>'wt'</li><li>'wt'</li><li>'wt'</li><li>'wt'</li><li>'wt'</li><li>'null'</li><li>'null'</li><li>'null'</li><li>'null'</li></ol>\n"
            ]
          },
          "metadata": {
            "tags": []
          }
        }
      ]
    },
    {
      "cell_type": "code",
      "metadata": {
        "id": "ZAoH7aVJT6m-",
        "outputId": "66f22cba-c8d9-490b-f4d4-d03182710ff1",
        "colab": {
          "base_uri": "https://localhost:8080/",
          "height": 34
        }
      },
      "source": [
        "detectGroups(colnames(convertedData.out))"
      ],
      "execution_count": 26,
      "outputs": [
        {
          "output_type": "display_data",
          "data": {
            "text/plain": [
              " [1] \"p53_mock\"  \"p53_mock\"  \"p53_mock\"  \"p53_mock\"  \"p53_IR\"    \"p53_IR\"   \n",
              " [7] \"p53_IR\"    \"p53_IR\"    \"null_mock\" \"null_mock\" \"null_IR\"   \"null_IR\"  "
            ],
            "text/latex": "\\begin{enumerate*}\n\\item 'p53\\_mock'\n\\item 'p53\\_mock'\n\\item 'p53\\_mock'\n\\item 'p53\\_mock'\n\\item 'p53\\_IR'\n\\item 'p53\\_IR'\n\\item 'p53\\_IR'\n\\item 'p53\\_IR'\n\\item 'null\\_mock'\n\\item 'null\\_mock'\n\\item 'null\\_IR'\n\\item 'null\\_IR'\n\\end{enumerate*}\n",
            "text/markdown": "1. 'p53_mock'\n2. 'p53_mock'\n3. 'p53_mock'\n4. 'p53_mock'\n5. 'p53_IR'\n6. 'p53_IR'\n7. 'p53_IR'\n8. 'p53_IR'\n9. 'null_mock'\n10. 'null_mock'\n11. 'null_IR'\n12. 'null_IR'\n\n\n",
            "text/html": [
              "<style>\n",
              ".list-inline {list-style: none; margin:0; padding: 0}\n",
              ".list-inline>li {display: inline-block}\n",
              ".list-inline>li:not(:last-child)::after {content: \"\\00b7\"; padding: 0 .5ex}\n",
              "</style>\n",
              "<ol class=list-inline><li>'p53_mock'</li><li>'p53_mock'</li><li>'p53_mock'</li><li>'p53_mock'</li><li>'p53_IR'</li><li>'p53_IR'</li><li>'p53_IR'</li><li>'p53_IR'</li><li>'null_mock'</li><li>'null_mock'</li><li>'null_IR'</li><li>'null_IR'</li></ol>\n"
            ]
          },
          "metadata": {
            "tags": []
          }
        }
      ]
    },
    {
      "cell_type": "code",
      "metadata": {
        "id": "Mj4fHySFVXs8"
      },
      "source": [
        "sampleinfo1 = read.csv(sampleInfoFile,row.names=1,header=T,colClasses=\"character\")"
      ],
      "execution_count": 29,
      "outputs": []
    },
    {
      "cell_type": "code",
      "metadata": {
        "id": "iKsSavr3ViKN",
        "outputId": "7e11f140-9399-4290-de3d-1f6f9df163e3",
        "colab": {
          "base_uri": "https://localhost:8080/",
          "height": 120
        }
      },
      "source": [
        "sampleinfo1"
      ],
      "execution_count": 30,
      "outputs": [
        {
          "output_type": "display_data",
          "data": {
            "text/plain": [
              "          null_mock_1 null_mock_2 null_IR_1 null_IR_2 wt_mock_1 wt_mock_2\n",
              "p53       null        null        null      null      wt        wt       \n",
              "Treatment mock        mock        IR        IR        mock      mock     \n",
              "          wt_mock_3 wt_mock_4 wt_IR_1 wt_IR_2 wt_IR_3 wt_IR_4\n",
              "p53       wt        wt        wt      wt      wt      wt     \n",
              "Treatment mock      mock      IR      IR      IR      IR     "
            ],
            "text/latex": "A data.frame: 2 × 12\n\\begin{tabular}{r|llllllllllll}\n  & null\\_mock\\_1 & null\\_mock\\_2 & null\\_IR\\_1 & null\\_IR\\_2 & wt\\_mock\\_1 & wt\\_mock\\_2 & wt\\_mock\\_3 & wt\\_mock\\_4 & wt\\_IR\\_1 & wt\\_IR\\_2 & wt\\_IR\\_3 & wt\\_IR\\_4\\\\\n  & <chr> & <chr> & <chr> & <chr> & <chr> & <chr> & <chr> & <chr> & <chr> & <chr> & <chr> & <chr>\\\\\n\\hline\n\tp53 & null & null & null & null & wt   & wt   & wt   & wt   & wt & wt & wt & wt\\\\\n\tTreatment & mock & mock & IR   & IR   & mock & mock & mock & mock & IR & IR & IR & IR\\\\\n\\end{tabular}\n",
            "text/markdown": "\nA data.frame: 2 × 12\n\n| <!--/--> | null_mock_1 &lt;chr&gt; | null_mock_2 &lt;chr&gt; | null_IR_1 &lt;chr&gt; | null_IR_2 &lt;chr&gt; | wt_mock_1 &lt;chr&gt; | wt_mock_2 &lt;chr&gt; | wt_mock_3 &lt;chr&gt; | wt_mock_4 &lt;chr&gt; | wt_IR_1 &lt;chr&gt; | wt_IR_2 &lt;chr&gt; | wt_IR_3 &lt;chr&gt; | wt_IR_4 &lt;chr&gt; |\n|---|---|---|---|---|---|---|---|---|---|---|---|---|\n| p53 | null | null | null | null | wt   | wt   | wt   | wt   | wt | wt | wt | wt |\n| Treatment | mock | mock | IR   | IR   | mock | mock | mock | mock | IR | IR | IR | IR |\n\n",
            "text/html": [
              "<table>\n",
              "<caption>A data.frame: 2 × 12</caption>\n",
              "<thead>\n",
              "\t<tr><th></th><th scope=col>null_mock_1</th><th scope=col>null_mock_2</th><th scope=col>null_IR_1</th><th scope=col>null_IR_2</th><th scope=col>wt_mock_1</th><th scope=col>wt_mock_2</th><th scope=col>wt_mock_3</th><th scope=col>wt_mock_4</th><th scope=col>wt_IR_1</th><th scope=col>wt_IR_2</th><th scope=col>wt_IR_3</th><th scope=col>wt_IR_4</th></tr>\n",
              "\t<tr><th></th><th scope=col>&lt;chr&gt;</th><th scope=col>&lt;chr&gt;</th><th scope=col>&lt;chr&gt;</th><th scope=col>&lt;chr&gt;</th><th scope=col>&lt;chr&gt;</th><th scope=col>&lt;chr&gt;</th><th scope=col>&lt;chr&gt;</th><th scope=col>&lt;chr&gt;</th><th scope=col>&lt;chr&gt;</th><th scope=col>&lt;chr&gt;</th><th scope=col>&lt;chr&gt;</th><th scope=col>&lt;chr&gt;</th></tr>\n",
              "</thead>\n",
              "<tbody>\n",
              "\t<tr><th scope=row>p53</th><td>null</td><td>null</td><td>null</td><td>null</td><td>wt  </td><td>wt  </td><td>wt  </td><td>wt  </td><td>wt</td><td>wt</td><td>wt</td><td>wt</td></tr>\n",
              "\t<tr><th scope=row>Treatment</th><td>mock</td><td>mock</td><td>IR  </td><td>IR  </td><td>mock</td><td>mock</td><td>mock</td><td>mock</td><td>IR</td><td>IR</td><td>IR</td><td>IR</td></tr>\n",
              "</tbody>\n",
              "</table>\n"
            ]
          },
          "metadata": {
            "tags": []
          }
        }
      ]
    },
    {
      "cell_type": "code",
      "metadata": {
        "id": "wbzGatmyV1cd",
        "outputId": "647a7ee6-adc8-4fae-98e1-625f678d7ea1",
        "colab": {
          "base_uri": "https://localhost:8080/",
          "height": 34
        }
      },
      "source": [
        "dim(sampleinfo1)"
      ],
      "execution_count": 31,
      "outputs": [
        {
          "output_type": "display_data",
          "data": {
            "text/plain": [
              "[1]  2 12"
            ],
            "text/latex": "\\begin{enumerate*}\n\\item 2\n\\item 12\n\\end{enumerate*}\n",
            "text/markdown": "1. 2\n2. 12\n\n\n",
            "text/html": [
              "<style>\n",
              ".list-inline {list-style: none; margin:0; padding: 0}\n",
              ".list-inline>li {display: inline-block}\n",
              ".list-inline>li:not(:last-child)::after {content: \"\\00b7\"; padding: 0 .5ex}\n",
              "</style>\n",
              "<ol class=list-inline><li>2</li><li>12</li></ol>\n"
            ]
          },
          "metadata": {
            "tags": []
          }
        }
      ]
    },
    {
      "cell_type": "code",
      "metadata": {
        "id": "gIG6qX5aWTLf",
        "outputId": "55fab401-63a8-439c-9310-1c79c4b73ed7",
        "colab": {
          "base_uri": "https://localhost:8080/",
          "height": 68
        }
      },
      "source": [
        "table(detectGroups(colnames(sampleinfo1)))"
      ],
      "execution_count": 33,
      "outputs": [
        {
          "output_type": "display_data",
          "data": {
            "text/plain": [
              "\n",
              "  null_IR null_mock     wt_IR   wt_mock \n",
              "        2         2         4         4 "
            ]
          },
          "metadata": {
            "tags": []
          }
        }
      ]
    },
    {
      "cell_type": "code",
      "metadata": {
        "id": "Njb7Pb-4rPZl"
      },
      "source": [
        "################################################################\n",
        "# PCA\n",
        "################################################################\n",
        "\n",
        "PCAplot <- function() {   #PCA\n",
        "\t x <- convertedData.out;\n",
        "\t pca.object <- prcomp(t(x))\n",
        "\t\t\n",
        "\tpcaData = as.data.frame(pca.object$x[,1:2]); pcaData = cbind(pcaData,detectGroups_1xx(colnames(x)) )\n",
        "\tcolnames(pcaData) = c(\"PC1\", \"PC2\", \"Sample_Name\")\n",
        "\tpercentVar=round(100*summary(pca.object)$importance[2,1:2],0)\n",
        "\tif(is.null(readSampleInfo.out)) { \n",
        "\t\tp=ggplot(pcaData, aes(PC1, PC2, color=Sample_Name, shape = Sample_Name)) + geom_point(size=5) \n",
        "\t\t} else {\n",
        "\t\tpcaData = cbind(pcaData,readSampleInfo.out )\n",
        "\t\tp=ggplot(pcaData, aes_string(\"PC1\", \"PC2\", color=input_selectFactors,shape=input_selectFactors2)) + geom_point(size=5) \n",
        "\t\t\n",
        "\t\t}\n",
        "\tp=p+xlab(paste0(\"PC1: \",percentVar[1],\"% variance\")) \n",
        "\tp=p+ylab(paste0(\"PC2: \",percentVar[2],\"% variance\")) \n",
        "\tp=p+ggtitle(\"Principal component analysis (PCA)\")+coord_fixed(ratio=1.0)+ \n",
        "     theme(plot.title = element_text(size = 16,hjust = 0.5)) + theme(aspect.ratio=1) +\n",
        "\t theme(axis.text.x = element_text( size = 16),\n",
        "\t       axis.text.y = element_text( size = 16),\n",
        "\t\t   axis.title.x = element_text( size = 16),\n",
        "\t\t   axis.title.y = element_text( size = 16) ) +\n",
        "\ttheme(legend.text=element_text(size=16))\n",
        "\t   print(p)\n",
        "}"
      ],
      "execution_count": 21,
      "outputs": []
    },
    {
      "cell_type": "code",
      "metadata": {
        "id": "L797Rx5Ebofi"
      },
      "source": [
        "library(ggplot2)"
      ],
      "execution_count": 23,
      "outputs": []
    },
    {
      "cell_type": "code",
      "metadata": {
        "id": "7ECq-0ECbtmS",
        "outputId": "0195fe0f-7453-47b5-a4f7-9a6379440f8d",
        "colab": {
          "base_uri": "https://localhost:8080/",
          "height": 437
        }
      },
      "source": [
        "input_selectFactors <- 'Sample_Name'\t#Factor coded by color\n",
        "input_selectFactors2 <- 'Sample_Name'\t#Factor coded by shape\n",
        "PCAplot()"
      ],
      "execution_count": 24,
      "outputs": [
        {
          "output_type": "display_data",
          "data": {
            "image/png": "[encoded data removed]",
            "text/plain": [
              "plot without title"
            ]
          },
          "metadata": {
            "tags": [],
            "image/png": {
              "width": 420,
              "height": 420
            }
          }
        }
      ]
    },
    {
      "cell_type": "markdown",
      "metadata": {
        "id": "_cbAwpsib0P7"
      },
      "source": [
        "### Now we have finished reproducing the exactly the same plot, we need to start adapting it\n",
        "\n",
        "Let's try the followings\n",
        "*   Increase the figure size\n",
        "*   Plot principal components **1** and **3** instead of **1** and **2**"
      ]
    },
    {
      "cell_type": "code",
      "metadata": {
        "id": "wyPLy27ibV5s"
      },
      "source": [
        "library(repr)\n",
        "options(repr.plot.width=10, repr.plot.height=10)"
      ],
      "execution_count": null,
      "outputs": []
    },
    {
      "cell_type": "markdown",
      "metadata": {
        "id": "4weFn8H6dUmn"
      },
      "source": [
        "* Increase the figure size"
      ]
    },
    {
      "cell_type": "code",
      "metadata": {
        "id": "W9VkJ0JNdEuP"
      },
      "source": [
        "# This increases the plotted figure size\n",
        "PCAplot()"
      ],
      "execution_count": null,
      "outputs": []
    },
    {
      "cell_type": "markdown",
      "metadata": {
        "id": "lAFVkT5TddVr"
      },
      "source": [
        "*   Plot principal components **1** and **3** instead of **1** and **2**"
      ]
    },
    {
      "cell_type": "code",
      "metadata": {
        "id": "_qrQ4hacdfnb"
      },
      "source": [
        "PCAplot_1xx <- function() {   #PCA\n",
        "\t x <- convertedData.out;\n",
        "\t pca.object <- prcomp(t(x))\n",
        "\t\t\n",
        "\tpcaData = as.data.frame(pca.object$x[,1:3]); pcaData = cbind(pcaData,detectGroups_1xx(colnames(x)) )\n",
        "\tcolnames(pcaData) = c(\"PC1\", \"PC3\", \"Sample_Name\")\n",
        "\tpercentVar=round(100*summary(pca.object)$importance[2,1:2],0)\n",
        "\tif(is.null(readSampleInfo.out)) { \n",
        "\t\tp=ggplot(pcaData, aes(PC1, PC3, color=Sample_Name, shape = Sample_Name)) + geom_point(size=5) \n",
        "\t\t} else {\n",
        "\t\tpcaData = cbind(pcaData,readSampleInfo.out )\n",
        "\t\tp=ggplot(pcaData, aes_string(\"PC1\", \"PC3\", color=input_selectFactors,shape=input_selectFactors2)) + geom_point(size=5) \n",
        "\t\t\n",
        "\t\t}\n",
        "\tp=p+xlab(paste0(\"PC1: \",percentVar[1],\"% variance\")) \n",
        "\tp=p+ylab(paste0(\"PC3: \",percentVar[2],\"% variance\")) \n",
        "\tp=p+ggtitle(\"Principal component analysis (PCA)\")+coord_fixed(ratio=1.0)+ \n",
        "     theme(plot.title = element_text(size = 16,hjust = 0.5)) + theme(aspect.ratio=1) +\n",
        "\t theme(axis.text.x = element_text( size = 16),\n",
        "\t       axis.text.y = element_text( size = 16),\n",
        "\t\t   axis.title.x = element_text( size = 16),\n",
        "\t\t   axis.title.y = element_text( size = 16) ) +\n",
        "\ttheme(legend.text=element_text(size=16))\n",
        "\t   print(p)\n",
        "}"
      ],
      "execution_count": null,
      "outputs": []
    },
    {
      "cell_type": "code",
      "metadata": {
        "id": "oIIqo4ujd5rI"
      },
      "source": [
        "PCAplot_1xx()"
      ],
      "execution_count": null,
      "outputs": []
    },
    {
      "cell_type": "markdown",
      "metadata": {
        "id": "jKCypOhaeNAE"
      },
      "source": [
        "As seen above the first obvious mistake is **1:3** in the indexing part:\n",
        "\n",
        "`pcaData = as.data.frame(pca.object$x[,1:3]);`\n",
        "\n",
        "Here **1:3** means columns from 1 to including 3, so we should change that to 1 and 3"
      ]
    },
    {
      "cell_type": "code",
      "metadata": {
        "id": "r1dJJAxNe_gS"
      },
      "source": [
        "PCAplot_2xx <- function() {   #PCA\n",
        "\t x <- convertedData.out;\n",
        "\t pca.object <- prcomp(t(x))\n",
        "\t\t\n",
        "\tpcaData = as.data.frame(pca.object$x[,c(1,3)]); pcaData = cbind(pcaData,detectGroups_1xx(colnames(x)) )\n",
        "\tcolnames(pcaData) = c(\"PC1\", \"PC3\", \"Sample_Name\")\n",
        "\tpercentVar=round(100*summary(pca.object)$importance[2,1:2],0)\n",
        "\tif(is.null(readSampleInfo.out)) { \n",
        "\t\tp=ggplot(pcaData, aes(PC1, PC3, color=Sample_Name, shape = Sample_Name)) + geom_point(size=5) \n",
        "\t\t} else {\n",
        "\t\tpcaData = cbind(pcaData,readSampleInfo.out )\n",
        "\t\tp=ggplot(pcaData, aes_string(\"PC1\", \"PC3\", color=input_selectFactors,shape=input_selectFactors2)) + geom_point(size=5) \n",
        "\t\t\n",
        "\t\t}\n",
        "\tp=p+xlab(paste0(\"PC1: \",percentVar[1],\"% variance\")) \n",
        "\tp=p+ylab(paste0(\"PC3: \",percentVar[2],\"% variance\")) \n",
        "\tp=p+ggtitle(\"Principal component analysis (PCA)\")+coord_fixed(ratio=1.0)+ \n",
        "     theme(plot.title = element_text(size = 16,hjust = 0.5)) + theme(aspect.ratio=1) +\n",
        "\t theme(axis.text.x = element_text( size = 16),\n",
        "\t       axis.text.y = element_text( size = 16),\n",
        "\t\t   axis.title.x = element_text( size = 16),\n",
        "\t\t   axis.title.y = element_text( size = 16) ) +\n",
        "\ttheme(legend.text=element_text(size=16))\n",
        "\t   print(p)\n",
        "}"
      ],
      "execution_count": null,
      "outputs": []
    },
    {
      "cell_type": "code",
      "metadata": {
        "id": "6dWNBGrOfFA0"
      },
      "source": [
        "PCAplot_2xx()"
      ],
      "execution_count": null,
      "outputs": []
    },
    {
      "cell_type": "markdown",
      "metadata": {
        "id": "6Kx-_nqeft5s"
      },
      "source": [
        "Well, figure looks different, but explained variance in axes are similar to the previous figure. Thus, we need to try changing the following part, which might provide correct variance:\n",
        "\n",
        "`percentVar=round(100*summary(pca.object)$importance[2,1:2],0)`\n",
        "\n",
        "And we already now that it should be **c(1,3)**, which is a vector of two integers: 1 and 3"
      ]
    },
    {
      "cell_type": "code",
      "metadata": {
        "id": "6JdUPqiNgeDK"
      },
      "source": [
        "PCAplot_3xx <- function() {   #PCA\n",
        "\t x <- convertedData.out;\n",
        "\t pca.object <- prcomp(t(x))\n",
        "\t\t\n",
        "\tpcaData = as.data.frame(pca.object$x[,c(1,3)]); pcaData = cbind(pcaData,detectGroups_1xx(colnames(x)) )\n",
        "\tcolnames(pcaData) = c(\"PC1\", \"PC3\", \"Sample_Name\")\n",
        "\tpercentVar=round(100*summary(pca.object)$importance[2,c(1,3)],0)\n",
        "\tif(is.null(readSampleInfo.out)) { \n",
        "\t\tp=ggplot(pcaData, aes(PC1, PC3, color=Sample_Name, shape = Sample_Name)) + geom_point(size=5) \n",
        "\t\t} else {\n",
        "\t\tpcaData = cbind(pcaData,readSampleInfo.out )\n",
        "\t\tp=ggplot(pcaData, aes_string(\"PC1\", \"PC3\", color=input_selectFactors,shape=input_selectFactors2)) + geom_point(size=5) \n",
        "\t\t\n",
        "\t\t}\n",
        "\tp=p+xlab(paste0(\"PC1: \",percentVar[1],\"% variance\")) \n",
        "\tp=p+ylab(paste0(\"PC3: \",percentVar[2],\"% variance\")) \n",
        "\tp=p+ggtitle(\"Principal component analysis (PCA)\")+coord_fixed(ratio=1.0)+ \n",
        "     theme(plot.title = element_text(size = 16,hjust = 0.5)) + theme(aspect.ratio=1) +\n",
        "\t theme(axis.text.x = element_text( size = 16),\n",
        "\t       axis.text.y = element_text( size = 16),\n",
        "\t\t   axis.title.x = element_text( size = 16),\n",
        "\t\t   axis.title.y = element_text( size = 16) ) +\n",
        "\ttheme(legend.text=element_text(size=16))\n",
        "\t   print(p)\n",
        "}"
      ],
      "execution_count": null,
      "outputs": []
    },
    {
      "cell_type": "code",
      "metadata": {
        "id": "Y8FCSrBVg-jW"
      },
      "source": [
        "PCAplot_3xx()"
      ],
      "execution_count": null,
      "outputs": []
    },
    {
      "cell_type": "code",
      "metadata": {
        "id": "RLbF0rdNlUy6"
      },
      "source": [
        "PCAplot()"
      ],
      "execution_count": null,
      "outputs": []
    },
    {
      "cell_type": "markdown",
      "metadata": {
        "id": "rEZHIs0P2Pe_"
      },
      "source": [
        "#### Delving more into the code\n",
        "We can just copy and paste every line PCAplot* functions to see what happens..."
      ]
    },
    {
      "cell_type": "code",
      "metadata": {
        "id": "_jvtzfICjouC"
      },
      "source": [
        "x <- convertedData.out;\n",
        "pca.object <- prcomp(t(x))"
      ],
      "execution_count": null,
      "outputs": []
    },
    {
      "cell_type": "code",
      "metadata": {
        "id": "iQJ7X75xnUi9"
      },
      "source": [
        "pca.object$sdev"
      ],
      "execution_count": null,
      "outputs": []
    },
    {
      "cell_type": "code",
      "metadata": {
        "id": "vYMi-EhBj8wI"
      },
      "source": [
        "summary(pca.object)"
      ],
      "execution_count": null,
      "outputs": []
    },
    {
      "cell_type": "code",
      "metadata": {
        "id": "yumGdyFVkkh4"
      },
      "source": [
        "percentVar=round(100*summary(pca.object)$importance[2,c(1,3)],0)\n",
        "print(percentVar)"
      ],
      "execution_count": null,
      "outputs": []
    },
    {
      "cell_type": "markdown",
      "metadata": {
        "id": "Wzb4eEYx2c3o"
      },
      "source": [
        "#### Session information for reproducing the results\n",
        "Reproducing results from other researchers doesn't only need availability of data, but also correct annotation of software. Thus, used software as well as versions of the used software need to be recorded in addition to data and code."
      ]
    },
    {
      "cell_type": "code",
      "metadata": {
        "id": "RxFN38Nzg42j"
      },
      "source": [
        "sessionInfo()"
      ],
      "execution_count": null,
      "outputs": []
    },
    {
      "cell_type": "markdown",
      "metadata": {
        "id": "sJOiIv7d3Gm-"
      },
      "source": [
        "#### Extra steps for improvement"
      ]
    },
    {
      "cell_type": "code",
      "metadata": {
        "id": "mito7Y47suYQ"
      },
      "source": [
        "install.packages('ggfortify')"
      ],
      "execution_count": null,
      "outputs": []
    },
    {
      "cell_type": "code",
      "metadata": {
        "id": "ozVOYqY2s0bQ"
      },
      "source": [
        "library(\"ggfortify\")\n",
        "pcaData = as.data.frame(pca.object$x[,1:2]); pcaData = cbind(pcaData,detectGroups_1xx(colnames(x)) )\n",
        "colnames(pcaData) = c(\"PC1\", \"PC2\", \"Sample_Name\")\n",
        "autoplot(pca.object,data=pcaData, colour=\"Sample_Name\", shape=\"Sample_Name\",size=5) "
      ],
      "execution_count": null,
      "outputs": []
    },
    {
      "cell_type": "markdown",
      "metadata": {
        "id": "4Zg-Qs1oynFF"
      },
      "source": [
        "#### Below figure shows conribution of each gene to each sample in PCA"
      ]
    },
    {
      "cell_type": "code",
      "metadata": {
        "id": "YSckaAzrwphv"
      },
      "source": [
        "library(\"ggfortify\")\n",
        "pcaData = as.data.frame(pca.object$x[,1:2]); pcaData = cbind(pcaData,detectGroups_1xx(colnames(x)) )\n",
        "colnames(pcaData) = c(\"PC1\", \"PC2\", \"Sample_Name\")\n",
        "autoplot(pca.object,data=pcaData, colour=\"Sample_Name\", shape=\"Sample_Name\",size=5, loadings=TRUE) "
      ],
      "execution_count": null,
      "outputs": []
    },
    {
      "cell_type": "code",
      "metadata": {
        "id": "eoE5ABPLueok"
      },
      "source": [
        "sessionInfo()"
      ],
      "execution_count": null,
      "outputs": []
    }
  ]
}